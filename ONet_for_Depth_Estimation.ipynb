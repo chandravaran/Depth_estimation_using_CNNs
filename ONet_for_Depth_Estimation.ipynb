{
 "cells": [
  {
   "cell_type": "markdown",
   "metadata": {},
   "source": [
    "# O-net for depth estimation\n",
    "\n",
    "### This notebook contains code to run a new depth estimation model called O-net\n",
    "Done By:\n",
    "Chandravaran Kunjeti\n",
    "Saikumar Dande"
   ]
  },
  {
   "cell_type": "code",
   "execution_count": null,
   "metadata": {
    "colab": {
     "base_uri": "https://localhost:8080/"
    },
    "id": "372DsMcCNFTG",
    "outputId": "415d88d0-0c8e-4c44-81a3-ea41b3c7d520"
   },
   "outputs": [
    {
     "name": "stdout",
     "output_type": "stream",
     "text": [
      "Collecting albumentations==0.4.6\n",
      "  Downloading albumentations-0.4.6.tar.gz (117 kB)\n",
      "\u001b[K     |████████████████████████████████| 117 kB 5.4 MB/s \n",
      "\u001b[?25hRequirement already satisfied: numpy>=1.11.1 in /usr/local/lib/python3.7/dist-packages (from albumentations==0.4.6) (1.19.5)\n",
      "Requirement already satisfied: scipy in /usr/local/lib/python3.7/dist-packages (from albumentations==0.4.6) (1.4.1)\n",
      "Collecting imgaug>=0.4.0\n",
      "  Downloading imgaug-0.4.0-py2.py3-none-any.whl (948 kB)\n",
      "\u001b[K     |████████████████████████████████| 948 kB 40.5 MB/s \n",
      "\u001b[?25hRequirement already satisfied: PyYAML in /usr/local/lib/python3.7/dist-packages (from albumentations==0.4.6) (3.13)\n",
      "Requirement already satisfied: opencv-python>=4.1.1 in /usr/local/lib/python3.7/dist-packages (from albumentations==0.4.6) (4.1.2.30)\n",
      "Requirement already satisfied: imageio in /usr/local/lib/python3.7/dist-packages (from imgaug>=0.4.0->albumentations==0.4.6) (2.4.1)\n",
      "Requirement already satisfied: Shapely in /usr/local/lib/python3.7/dist-packages (from imgaug>=0.4.0->albumentations==0.4.6) (1.8.0)\n",
      "Requirement already satisfied: Pillow in /usr/local/lib/python3.7/dist-packages (from imgaug>=0.4.0->albumentations==0.4.6) (7.1.2)\n",
      "Requirement already satisfied: six in /usr/local/lib/python3.7/dist-packages (from imgaug>=0.4.0->albumentations==0.4.6) (1.15.0)\n",
      "Requirement already satisfied: matplotlib in /usr/local/lib/python3.7/dist-packages (from imgaug>=0.4.0->albumentations==0.4.6) (3.2.2)\n",
      "Requirement already satisfied: scikit-image>=0.14.2 in /usr/local/lib/python3.7/dist-packages (from imgaug>=0.4.0->albumentations==0.4.6) (0.18.3)\n",
      "Requirement already satisfied: networkx>=2.0 in /usr/local/lib/python3.7/dist-packages (from scikit-image>=0.14.2->imgaug>=0.4.0->albumentations==0.4.6) (2.6.3)\n",
      "Requirement already satisfied: tifffile>=2019.7.26 in /usr/local/lib/python3.7/dist-packages (from scikit-image>=0.14.2->imgaug>=0.4.0->albumentations==0.4.6) (2021.11.2)\n",
      "Requirement already satisfied: PyWavelets>=1.1.1 in /usr/local/lib/python3.7/dist-packages (from scikit-image>=0.14.2->imgaug>=0.4.0->albumentations==0.4.6) (1.2.0)\n",
      "Requirement already satisfied: python-dateutil>=2.1 in /usr/local/lib/python3.7/dist-packages (from matplotlib->imgaug>=0.4.0->albumentations==0.4.6) (2.8.2)\n",
      "Requirement already satisfied: pyparsing!=2.0.4,!=2.1.2,!=2.1.6,>=2.0.1 in /usr/local/lib/python3.7/dist-packages (from matplotlib->imgaug>=0.4.0->albumentations==0.4.6) (3.0.6)\n",
      "Requirement already satisfied: kiwisolver>=1.0.1 in /usr/local/lib/python3.7/dist-packages (from matplotlib->imgaug>=0.4.0->albumentations==0.4.6) (1.3.2)\n",
      "Requirement already satisfied: cycler>=0.10 in /usr/local/lib/python3.7/dist-packages (from matplotlib->imgaug>=0.4.0->albumentations==0.4.6) (0.11.0)\n",
      "Building wheels for collected packages: albumentations\n",
      "  Building wheel for albumentations (setup.py) ... \u001b[?25l\u001b[?25hdone\n",
      "  Created wheel for albumentations: filename=albumentations-0.4.6-py3-none-any.whl size=65172 sha256=5feed7112de1b42dbda42c52eb29ea034f9b14d2fef40c05d4ccfb9d6d747cc7\n",
      "  Stored in directory: /root/.cache/pip/wheels/cf/34/0f/cb2a5f93561a181a4bcc84847ad6aaceea8b5a3127469616cc\n",
      "Successfully built albumentations\n",
      "Installing collected packages: imgaug, albumentations\n",
      "  Attempting uninstall: imgaug\n",
      "    Found existing installation: imgaug 0.2.9\n",
      "    Uninstalling imgaug-0.2.9:\n",
      "      Successfully uninstalled imgaug-0.2.9\n",
      "  Attempting uninstall: albumentations\n",
      "    Found existing installation: albumentations 0.1.12\n",
      "    Uninstalling albumentations-0.1.12:\n",
      "      Successfully uninstalled albumentations-0.1.12\n",
      "Successfully installed albumentations-0.4.6 imgaug-0.4.0\n"
     ]
    }
   ],
   "source": [
    "!pip install albumentations==0.4.6"
   ]
  },
  {
   "cell_type": "code",
   "execution_count": null,
   "metadata": {
    "colab": {
     "base_uri": "https://localhost:8080/"
    },
    "id": "GtU2dpLnWEuj",
    "outputId": "3bd622b7-1410-4935-837b-fa66aa3ffe2a"
   },
   "outputs": [
    {
     "name": "stdout",
     "output_type": "stream",
     "text": [
      "Mounted at /content/drive\n"
     ]
    }
   ],
   "source": [
    "from google.colab import drive\n",
    "drive.mount('/content/drive')"
   ]
  },
  {
   "cell_type": "code",
   "execution_count": null,
   "metadata": {
    "colab": {
     "base_uri": "https://localhost:8080/"
    },
    "id": "4vJAsaRSDIIl",
    "outputId": "e2e0c3ce-8b06-409b-ae60-e1b49ad2f7e7"
   },
   "outputs": [
    {
     "name": "stdout",
     "output_type": "stream",
     "text": [
      "/content/drive/MyDrive/Neural Network Project\n"
     ]
    }
   ],
   "source": [
    "%cd /content/drive/MyDrive/Neural\\ Network\\ Project"
   ]
  },
  {
   "cell_type": "code",
   "execution_count": null,
   "metadata": {
    "id": "83UDsEB7C3y_"
   },
   "outputs": [],
   "source": [
    "from DataLoader import TransposeDepthInput, NYUDataset, save_checkpoint, get_loaders, save_predictions_as_imgs\n",
    "from metrics import ScaleInvariantLoss, threeshold_percentage, rmse_linear, rmse_log, abs_relative_difference, squared_relative_difference"
   ]
  },
  {
   "cell_type": "code",
   "execution_count": null,
   "metadata": {
    "id": "-Pya_uJfDF7F"
   },
   "outputs": [],
   "source": [
    "import torch\n",
    "from Onet import ONET"
   ]
  },
  {
   "cell_type": "code",
   "execution_count": null,
   "metadata": {
    "colab": {
     "base_uri": "https://localhost:8080/"
    },
    "id": "50Uo72b_QV8D",
    "outputId": "83133ffa-784b-4d91-a97b-b2bfb286dac2"
   },
   "outputs": [
    {
     "name": "stdout",
     "output_type": "stream",
     "text": [
      "Image shape\t: torch.Size([3, 3, 120, 160])\n",
      "Gradient shape\t: torch.Size([3, 2, 120, 160])\n",
      "Output shape\t: torch.Size([3, 1, 120, 160])\n"
     ]
    }
   ],
   "source": [
    "def test():\n",
    "    image = torch.randn((3, 3, 120, 160))\n",
    "    gradient = torch.randn((3, 2, 120, 160))\n",
    "    model = ONET(in_channels1=3, in_channels2=2, out_channels=1)\n",
    "    preds = model(image, gradient)\n",
    "    print(\"Image shape\\t:\", image.shape)\n",
    "    print(\"Gradient shape\\t:\", gradient.shape)\n",
    "    print(\"Output shape\\t:\", preds.shape)\n",
    "    assert preds.shape[2:] == image.shape[2:]\n",
    "\n",
    "test()"
   ]
  },
  {
   "cell_type": "code",
   "execution_count": null,
   "metadata": {
    "id": "Bb-SdKh4QJgS"
   },
   "outputs": [],
   "source": [
    "import torch\n",
    "import albumentations as A\n",
    "from albumentations.pytorch import ToTensorV2\n",
    "from tqdm import tqdm\n",
    "import torch.nn as nn\n",
    "import torch.optim as optim\n",
    "import math\n",
    "\n",
    "# Hyperparameters etc.\n",
    "LEARNING_RATE = 1e-4\n",
    "DEVICE = \"cuda\" if torch.cuda.is_available() else \"cpu\"\n",
    "BATCH_SIZE = 16\n",
    "NUM_EPOCHS = 30\n",
    "NUM_WORKERS = 16\n",
    "PIN_MEMORY = True\n",
    "LOAD_MODEL = False\n",
    "TRAIN_IMG_DIR = \"/content/drive/MyDrive/Neural Network Project/Datasets/Train/images/\"\n",
    "TRAIN_DEPTH_DIR = \"/content/drive/MyDrive/Neural Network Project/Datasets/Train/depths/\"\n",
    "VAL_IMG_DIR = \"/content/drive/MyDrive/Neural Network Project/Datasets/Validation/images/\"\n",
    "VAL_DEPTH_DIR = \"/content/drive/MyDrive/Neural Network Project/Datasets/Validation/depths/\"\n",
    "TEST_IMG_DIR = \"/content/drive/MyDrive/Neural Network Project/Datasets/Test/images/\"\n",
    "TEST_DEPTH_DIR = \"/content/drive/MyDrive/Neural Network Project/Datasets/Test/depths/\"\n",
    "\n",
    "MODEL_NAME = 'Onet_model'\n",
    "MODEL_SAVE_DIR = \"/content/drive/MyDrive/Neural Network Project/Models/Onet/checkpoint/\"\n",
    "MODEL_LOAD_PATH = \"/content/drive/MyDrive/Neural Network Project/Models/Onet/checkpoint/\" + MODEL_NAME + \"_10.pth.tar\"\n",
    "VALIDATION_IMAGES_SAVE_DIR = \"/content/drive/MyDrive/Neural Network Project/Models/Onet/validation_outputs/\"\n",
    "\n",
    "dtype=torch.cuda.FloatTensor\n",
    "\n",
    "def train_unet(loader, model, optimizer, loss_fn, scaler):\n",
    "    loop = tqdm(loader)\n",
    "\n",
    "    train_loss = 0\n",
    "    for batch_idx, (data, gradient, targets) in enumerate(loop):\n",
    "        data = data.to(device=DEVICE)\n",
    "        gradient = gradient.to(device=DEVICE)\n",
    "        targets = targets.to(device=DEVICE)\n",
    "\n",
    "        # forward\n",
    "        predictions = model(data.type(dtype), gradient.type(dtype))\n",
    "        loss = loss_fn(predictions, targets)\n",
    "\n",
    "        train_loss += loss.item()\n",
    "        \n",
    "        # backward\n",
    "        optimizer.zero_grad()\n",
    "        \n",
    "        loss.backward()\n",
    "        optimizer.step()\n",
    "\n",
    "        # scaler.scale(loss).backward()\n",
    "        # scaler.step(optimizer)\n",
    "        # scaler.update()\n",
    "\n",
    "        # update tqdm loop\n",
    "        loop.set_postfix(loss=loss.item())\n",
    "\n",
    "    train_loss /= (batch_idx + 1)\n",
    "    return train_loss\n",
    "\n",
    "def validate_unet(loader, model, loss_fn, epoch, train_loss, save_folder):\n",
    "  loop = tqdm(loader)\n",
    "\n",
    "  validation_loss = 0\n",
    "  scale_invariant_loss = 0\n",
    "  delta1_accuracy = 0\n",
    "  delta2_accuracy = 0\n",
    "  delta3_accuracy = 0\n",
    "  rmse_linear_loss = 0\n",
    "  rmse_log_loss = 0\n",
    "  abs_relative_difference_loss = 0\n",
    "  squared_relative_difference_loss = 0\n",
    "\n",
    "  model.eval()\n",
    "  for batch_idx, (data, gradient, targets) in enumerate(loop):\n",
    "      data = data.to(device=DEVICE)\n",
    "      gradient = gradient.to(device=DEVICE)\n",
    "      targets = targets.to(device=DEVICE)\n",
    "\n",
    "      with torch.no_grad():\n",
    "        predictions = model(data.type(dtype), gradient.type(dtype))\n",
    "        loss = loss_fn(predictions, targets)\n",
    "      \n",
    "      validation_loss += loss.item()\n",
    "\n",
    "      # Error function\n",
    "      scale_invariant_loss += loss_fn(predictions, targets)\n",
    "      delta1_accuracy += threeshold_percentage(predictions, targets, 1.25)\n",
    "      delta2_accuracy += threeshold_percentage(predictions, targets, 1.25*1.25)\n",
    "      delta3_accuracy += threeshold_percentage(predictions, targets, 1.25*1.25*1.25)\n",
    "      rmse_linear_loss += rmse_linear(predictions, targets)\n",
    "      rmse_log_loss += rmse_log(predictions, targets)\n",
    "      abs_relative_difference_loss += abs_relative_difference(predictions, targets)\n",
    "      squared_relative_difference_loss += squared_relative_difference(predictions, targets)\n",
    "\n",
    "      # Saving output depths\n",
    "      targets -= torch.min(targets)\n",
    "      targets = targets/torch.max(targets)\n",
    "\n",
    "      predictions -= torch.min(predictions)\n",
    "      predictions = predictions/torch.max(predictions)\n",
    "\n",
    "      torchvision.utils.save_image(predictions, f\"{save_folder}/pred_{batch_idx}.png\")\n",
    "      torchvision.utils.save_image(targets, f\"{save_folder}{batch_idx}.png\")\n",
    "      \n",
    "      # update tqdm loop\n",
    "      loop.set_postfix(validation_loss=loss.item())\n",
    "  \n",
    "  validation_loss /= (batch_idx + 1)\n",
    "  delta1_accuracy /= (batch_idx + 1)\n",
    "  delta2_accuracy /= (batch_idx + 1)\n",
    "  delta3_accuracy /= (batch_idx + 1)\n",
    "  rmse_linear_loss /= (batch_idx + 1)\n",
    "  rmse_log_loss /= (batch_idx + 1)\n",
    "  abs_relative_difference_loss /= (batch_idx + 1)\n",
    "  squared_relative_difference_loss /= (batch_idx + 1)\n",
    "\n",
    "  print('Epoch: {}    {:.4f}      {:.4f}      {:.4f}      {:.4f}      {:.4f}      {:.4f}      {:.4f}      {:.4f}      {:.4f}'.format(epoch, train_loss, \n",
    "        validation_loss, delta1_accuracy, delta2_accuracy, delta3_accuracy, rmse_linear_loss, rmse_log_loss, \n",
    "        abs_relative_difference_loss, squared_relative_difference_loss))\n",
    "  \n",
    "  model.train()\n",
    "  return validation_loss\n",
    "\n",
    "def main():\n",
    "    rgb_data_transforms = transforms.Compose([\n",
    "        transforms.Resize((IMAGE_HEIGHT, IMAGE_WIDTH)),\n",
    "        transforms.ToTensor(),\n",
    "    ])\n",
    "\n",
    "    depth_data_transforms = transforms.Compose([\n",
    "        TransposeDepthInput(),\n",
    "    ])\n",
    "\n",
    "    train_loader, val_loader, test_loader = get_loaders(\n",
    "          TRAIN_IMG_DIR,\n",
    "          TRAIN_DEPTH_DIR,\n",
    "          VAL_IMG_DIR,\n",
    "          VAL_DEPTH_DIR,\n",
    "          TEST_IMG_DIR,\n",
    "          TEST_DEPTH_DIR,\n",
    "          BATCH_SIZE,\n",
    "          rgb_data_transforms,\n",
    "          depth_data_transforms,\n",
    "          NUM_WORKERS,\n",
    "          PIN_MEMORY,\n",
    "    )\n",
    "\n",
    "    model = ONET(in_channels1=3, in_channels2=2, out_channels=1).to(DEVICE)\n",
    "    loss_fn = ScaleInvariantLoss\n",
    "    optimizer = optim.Adam(model.parameters(), lr=LEARNING_RATE)\n",
    "    # scaler = torch.cuda.amp.GradScaler()\n",
    "    scaler = None\n",
    "    \n",
    "    train_losses, validation_losses = [], []\n",
    "\n",
    "    if LOAD_MODEL:\n",
    "      print(\"=> Loading Chekpoint\")\n",
    "      checkpoint = torch.load(MODEL_LOAD_PATH)\n",
    "      coarse_net_model.load_state_dict(checkpoint[\"state_dict\"])\n",
    "      train_losses = checkpoint[\"train_losses\"]\n",
    "      validation_losses = checkpoint[\"validation_losses\"]\n",
    "      print(\"=> Checkpoint Loaded\")\n",
    "\n",
    "    print(\"********* Training the Unet Model **************\")\n",
    "    print(\"Epochs:     Train_loss  Val_loss    Delta_1     Delta_2     Delta_3    rmse_lin    rmse_log    abs_rel.  square_relative\")\n",
    "    print(\"Paper Val:                          (0.618)     (0.891)     (0.969)     (0.871)     (0.283)     (0.228)     (0.223)\")\n",
    "    \n",
    "    for epoch in range(1, NUM_EPOCHS+1):\n",
    "        train_loss = train_unet(train_loader, model, optimizer, loss_fn, scaler)\n",
    "        validation_loss = validate_unet(val_loader, model, loss_fn, epoch, train_loss, save_folder=VALIDATION_IMAGES_SAVE_DIR)\n",
    "\n",
    "        train_losses.append(train_loss)\n",
    "        validation_losses.append(validation_loss)\n",
    "\n",
    "        if epoch % 10 == 0:\n",
    "          # save model\n",
    "          checkpoint = {\n",
    "              \"state_dict\": model.state_dict(),\n",
    "              \"train_losses\": train_losses,\n",
    "              \"validation_losses\": validation_losses,\n",
    "          }\n",
    "          save_path = MODEL_SAVE_DIR + MODEL_NAME + '_' + str(epoch) + '.pth.tar'\n",
    "          save_checkpoint(checkpoint, save_path)\n",
    "\n",
    "    print()"
   ]
  },
  {
   "cell_type": "code",
   "execution_count": null,
   "metadata": {
    "colab": {
     "base_uri": "https://localhost:8080/"
    },
    "id": "Z0ajOjXJVQRC",
    "outputId": "bf93c0d3-92cd-4c0c-ddba-d24cb4123d7a"
   },
   "outputs": [
    {
     "metadata": {
      "tags": null
     },
     "name": "stdout",
     "output_type": "stream",
     "text": [
      "********* Training the Unet Model **************\n",
      "Epochs:     Train_loss  Val_loss    Delta_1     Delta_2     Delta_3    rmse_lin    rmse_log    abs_rel.  square_relative\n",
      "Paper Val:                          (0.618)     (0.891)     (0.969)     (0.871)     (0.283)     (0.228)     (0.223)\n"
     ]
    },
    {
     "metadata": {
      "tags": null
     },
     "name": "stderr",
     "output_type": "stream",
     "text": [
      "100%|██████████| 64/64 [01:55<00:00,  1.80s/it, loss=0.248]\n",
      "100%|██████████| 14/14 [00:22<00:00,  1.59s/it, validation_loss=0.384]\n"
     ]
    },
    {
     "metadata": {
      "tags": null
     },
     "name": "stdout",
     "output_type": "stream",
     "text": [
      "Epoch: 1    0.2762      0.1356      0.4517      0.7749      0.9274      0.9212      0.1605      0.3613      0.5299\n"
     ]
    },
    {
     "metadata": {
      "tags": null
     },
     "name": "stderr",
     "output_type": "stream",
     "text": [
      "100%|██████████| 64/64 [01:44<00:00,  1.63s/it, loss=0.344]\n",
      "100%|██████████| 14/14 [00:15<00:00,  1.11s/it, validation_loss=0.384]\n"
     ]
    },
    {
     "metadata": {
      "tags": null
     },
     "name": "stdout",
     "output_type": "stream",
     "text": [
      "Epoch: 2    0.1922      0.1246      0.5106      0.8252      0.9492      0.8410      0.1435      0.3732      0.6514\n"
     ]
    },
    {
     "metadata": {
      "tags": null
     },
     "name": "stderr",
     "output_type": "stream",
     "text": [
      "100%|██████████| 64/64 [01:45<00:00,  1.65s/it, loss=0.15]\n",
      "100%|██████████| 14/14 [00:15<00:00,  1.13s/it, validation_loss=0.366]\n"
     ]
    },
    {
     "metadata": {
      "tags": null
     },
     "name": "stdout",
     "output_type": "stream",
     "text": [
      "Epoch: 3    0.1822      0.1182      0.5525      0.8445      0.9480      0.8020      0.1361      0.3829      0.5984\n"
     ]
    },
    {
     "metadata": {
      "tags": null
     },
     "name": "stderr",
     "output_type": "stream",
     "text": [
      "100%|██████████| 64/64 [01:44<00:00,  1.64s/it, loss=0.283]\n",
      "100%|██████████| 14/14 [00:16<00:00,  1.15s/it, validation_loss=0.392]\n"
     ]
    },
    {
     "metadata": {
      "tags": null
     },
     "name": "stdout",
     "output_type": "stream",
     "text": [
      "Epoch: 4    0.1725      0.1433      0.3968      0.7288      0.9079      0.9892      0.1824      0.3612      0.5365\n"
     ]
    },
    {
     "metadata": {
      "tags": null
     },
     "name": "stderr",
     "output_type": "stream",
     "text": [
      "100%|██████████| 64/64 [01:44<00:00,  1.63s/it, loss=0.118]\n",
      "100%|██████████| 14/14 [00:15<00:00,  1.13s/it, validation_loss=0.358]\n"
     ]
    },
    {
     "metadata": {
      "tags": null
     },
     "name": "stdout",
     "output_type": "stream",
     "text": [
      "Epoch: 5    0.1655      0.1127      0.5501      0.8495      0.9567      0.7974      0.1281      0.3410      0.5240\n"
     ]
    },
    {
     "metadata": {
      "tags": null
     },
     "name": "stderr",
     "output_type": "stream",
     "text": [
      "100%|██████████| 64/64 [01:45<00:00,  1.64s/it, loss=0.251]\n",
      "100%|██████████| 14/14 [00:15<00:00,  1.14s/it, validation_loss=0.362]\n"
     ]
    },
    {
     "metadata": {
      "tags": null
     },
     "name": "stdout",
     "output_type": "stream",
     "text": [
      "Epoch: 6    0.1559      0.1144      0.5504      0.8525      0.9580      0.7915      0.1300      0.3531      0.5838\n"
     ]
    },
    {
     "metadata": {
      "tags": null
     },
     "name": "stderr",
     "output_type": "stream",
     "text": [
      "100%|██████████| 64/64 [01:45<00:00,  1.64s/it, loss=0.0793]\n",
      "100%|██████████| 14/14 [00:15<00:00,  1.12s/it, validation_loss=0.383]\n"
     ]
    },
    {
     "metadata": {
      "tags": null
     },
     "name": "stdout",
     "output_type": "stream",
     "text": [
      "Epoch: 7    0.1500      0.1183      0.5589      0.8525      0.9532      0.8121      0.1365      0.3984      0.7611\n"
     ]
    },
    {
     "metadata": {
      "tags": null
     },
     "name": "stderr",
     "output_type": "stream",
     "text": [
      "100%|██████████| 64/64 [01:45<00:00,  1.64s/it, loss=0.154]\n",
      "100%|██████████| 14/14 [00:15<00:00,  1.10s/it, validation_loss=0.377]\n"
     ]
    },
    {
     "metadata": {
      "tags": null
     },
     "name": "stdout",
     "output_type": "stream",
     "text": [
      "Epoch: 8    0.1426      0.1188      0.5087      0.8102      0.9436      0.8424      0.1423      0.3254      0.4683\n"
     ]
    },
    {
     "metadata": {
      "tags": null
     },
     "name": "stderr",
     "output_type": "stream",
     "text": [
      "100%|██████████| 64/64 [01:45<00:00,  1.64s/it, loss=0.101]\n",
      "100%|██████████| 14/14 [00:15<00:00,  1.12s/it, validation_loss=0.378]\n"
     ]
    },
    {
     "metadata": {
      "tags": null
     },
     "name": "stdout",
     "output_type": "stream",
     "text": [
      "Epoch: 9    0.1344      0.1113      0.5687      0.8685      0.9639      0.7882      0.1257      0.3689      0.6698\n"
     ]
    },
    {
     "metadata": {
      "tags": null
     },
     "name": "stderr",
     "output_type": "stream",
     "text": [
      "100%|██████████| 64/64 [01:45<00:00,  1.64s/it, loss=0.162]\n",
      "100%|██████████| 14/14 [00:15<00:00,  1.11s/it, validation_loss=0.415]\n"
     ]
    },
    {
     "metadata": {
      "tags": null
     },
     "name": "stdout",
     "output_type": "stream",
     "text": [
      "Epoch: 10    0.1302      0.1363      0.4726      0.7847      0.9316      0.8332      0.1614      0.3748      0.6552\n",
      "=> Saving checkpoint\n"
     ]
    },
    {
     "metadata": {
      "tags": null
     },
     "name": "stderr",
     "output_type": "stream",
     "text": [
      "100%|██████████| 64/64 [01:45<00:00,  1.65s/it, loss=0.201]\n",
      "100%|██████████| 14/14 [00:15<00:00,  1.11s/it, validation_loss=0.444]\n"
     ]
    },
    {
     "metadata": {
      "tags": null
     },
     "name": "stdout",
     "output_type": "stream",
     "text": [
      "Epoch: 11    0.1235      0.1542      0.4715      0.7658      0.9101      0.8549      0.1796      0.3843      0.6776\n"
     ]
    },
    {
     "metadata": {
      "tags": null
     },
     "name": "stderr",
     "output_type": "stream",
     "text": [
      "100%|██████████| 64/64 [01:45<00:00,  1.65s/it, loss=0.127]\n",
      "100%|██████████| 14/14 [00:15<00:00,  1.11s/it, validation_loss=0.402]\n"
     ]
    },
    {
     "metadata": {
      "tags": null
     },
     "name": "stdout",
     "output_type": "stream",
     "text": [
      "Epoch: 12    0.1150      0.1394      0.4594      0.7575      0.9146      0.8828      0.1730      0.3460      0.5094\n"
     ]
    },
    {
     "metadata": {
      "tags": null
     },
     "name": "stderr",
     "output_type": "stream",
     "text": [
      "100%|██████████| 64/64 [01:45<00:00,  1.64s/it, loss=0.0681]\n",
      "100%|██████████| 14/14 [00:15<00:00,  1.11s/it, validation_loss=0.384]\n"
     ]
    },
    {
     "metadata": {
      "tags": null
     },
     "name": "stdout",
     "output_type": "stream",
     "text": [
      "Epoch: 13    0.1078      0.1224      0.4694      0.7949      0.9367      0.8694      0.1507      0.3321      0.4703\n"
     ]
    },
    {
     "metadata": {
      "tags": null
     },
     "name": "stderr",
     "output_type": "stream",
     "text": [
      "100%|██████████| 64/64 [01:45<00:00,  1.65s/it, loss=0.0664]\n",
      "100%|██████████| 14/14 [00:15<00:00,  1.11s/it, validation_loss=0.367]\n"
     ]
    },
    {
     "metadata": {
      "tags": null
     },
     "name": "stdout",
     "output_type": "stream",
     "text": [
      "Epoch: 14    0.0999      0.1079      0.5757      0.8746      0.9620      0.7546      0.1233      0.3575      0.6370\n"
     ]
    },
    {
     "metadata": {
      "tags": null
     },
     "name": "stderr",
     "output_type": "stream",
     "text": [
      "100%|██████████| 64/64 [01:45<00:00,  1.65s/it, loss=0.129]\n",
      "100%|██████████| 14/14 [00:15<00:00,  1.12s/it, validation_loss=0.469]\n"
     ]
    },
    {
     "metadata": {
      "tags": null
     },
     "name": "stdout",
     "output_type": "stream",
     "text": [
      "Epoch: 15    0.0982      0.1731      0.4716      0.7798      0.9122      0.9637      0.1974      0.4372      0.7098\n"
     ]
    },
    {
     "metadata": {
      "tags": null
     },
     "name": "stderr",
     "output_type": "stream",
     "text": [
      "100%|██████████| 64/64 [01:45<00:00,  1.64s/it, loss=0.0288]\n",
      "100%|██████████| 14/14 [00:15<00:00,  1.12s/it, validation_loss=0.364]\n"
     ]
    },
    {
     "metadata": {
      "tags": null
     },
     "name": "stdout",
     "output_type": "stream",
     "text": [
      "Epoch: 16    0.0905      0.1057      0.5803      0.8704      0.9615      0.7461      0.1196      0.3321      0.5496\n"
     ]
    },
    {
     "metadata": {
      "tags": null
     },
     "name": "stderr",
     "output_type": "stream",
     "text": [
      "100%|██████████| 64/64 [01:45<00:00,  1.65s/it, loss=0.0935]\n",
      "100%|██████████| 14/14 [00:15<00:00,  1.14s/it, validation_loss=0.372]\n"
     ]
    },
    {
     "metadata": {
      "tags": null
     },
     "name": "stdout",
     "output_type": "stream",
     "text": [
      "Epoch: 17    0.0840      0.1099      0.5775      0.8776      0.9600      0.7720      0.1240      0.3529      0.6161\n"
     ]
    },
    {
     "metadata": {
      "tags": null
     },
     "name": "stderr",
     "output_type": "stream",
     "text": [
      "100%|██████████| 64/64 [01:45<00:00,  1.65s/it, loss=0.0813]\n",
      "100%|██████████| 14/14 [00:15<00:00,  1.12s/it, validation_loss=0.356]\n"
     ]
    },
    {
     "metadata": {
      "tags": null
     },
     "name": "stdout",
     "output_type": "stream",
     "text": [
      "Epoch: 18    0.0801      0.1069      0.5861      0.8692      0.9587      0.7558      0.1206      0.3309      0.5269\n"
     ]
    },
    {
     "metadata": {
      "tags": null
     },
     "name": "stderr",
     "output_type": "stream",
     "text": [
      "100%|██████████| 64/64 [01:45<00:00,  1.65s/it, loss=0.103]\n",
      "100%|██████████| 14/14 [00:15<00:00,  1.09s/it, validation_loss=0.399]\n"
     ]
    },
    {
     "metadata": {
      "tags": null
     },
     "name": "stdout",
     "output_type": "stream",
     "text": [
      "Epoch: 19    0.0763      0.1137      0.5670      0.8638      0.9622      0.7635      0.1277      0.3608      0.6926\n"
     ]
    },
    {
     "metadata": {
      "tags": null
     },
     "name": "stderr",
     "output_type": "stream",
     "text": [
      "100%|██████████| 64/64 [01:45<00:00,  1.64s/it, loss=0.0805]\n",
      "100%|██████████| 14/14 [00:15<00:00,  1.12s/it, validation_loss=0.366]\n"
     ]
    },
    {
     "metadata": {
      "tags": null
     },
     "name": "stdout",
     "output_type": "stream",
     "text": [
      "Epoch: 20    0.0739      0.1113      0.5126      0.8272      0.9542      0.8171      0.1332      0.3197      0.4615\n",
      "=> Saving checkpoint\n"
     ]
    },
    {
     "metadata": {
      "tags": null
     },
     "name": "stderr",
     "output_type": "stream",
     "text": [
      "100%|██████████| 64/64 [01:45<00:00,  1.65s/it, loss=0.0723]\n",
      "100%|██████████| 14/14 [00:15<00:00,  1.12s/it, validation_loss=0.372]\n"
     ]
    },
    {
     "metadata": {
      "tags": null
     },
     "name": "stdout",
     "output_type": "stream",
     "text": [
      "Epoch: 21    0.0719      0.1077      0.5606      0.8593      0.9625      0.7594      0.1240      0.3275      0.5403\n"
     ]
    },
    {
     "metadata": {
      "tags": null
     },
     "name": "stderr",
     "output_type": "stream",
     "text": [
      "100%|██████████| 64/64 [01:45<00:00,  1.65s/it, loss=0.0381]\n",
      "100%|██████████| 14/14 [00:15<00:00,  1.12s/it, validation_loss=0.376]\n"
     ]
    },
    {
     "metadata": {
      "tags": null
     },
     "name": "stdout",
     "output_type": "stream",
     "text": [
      "Epoch: 22    0.0685      0.1149      0.5075      0.8197      0.9523      0.8144      0.1385      0.3290      0.5022\n"
     ]
    },
    {
     "metadata": {
      "tags": null
     },
     "name": "stderr",
     "output_type": "stream",
     "text": [
      "100%|██████████| 64/64 [01:45<00:00,  1.64s/it, loss=0.0513]\n",
      "100%|██████████| 14/14 [00:15<00:00,  1.09s/it, validation_loss=0.547]\n"
     ]
    },
    {
     "metadata": {
      "tags": null
     },
     "name": "stdout",
     "output_type": "stream",
     "text": [
      "Epoch: 23    0.0655      0.2077      0.3724      0.6492      0.8306      0.9670      0.2617      0.4143      0.7247\n"
     ]
    },
    {
     "name": "stderr",
     "output_type": "stream",
     "text": [
      "100%|██████████| 64/64 [01:45<00:00,  1.65s/it, loss=0.125]\n",
      "100%|██████████| 14/14 [00:15<00:00,  1.11s/it, validation_loss=0.391]\n"
     ]
    },
    {
     "name": "stdout",
     "output_type": "stream",
     "text": [
      "Epoch: 24    0.0656      0.1121      0.5406      0.8429      0.9573      0.7743      0.1308      0.3311      0.5355\n"
     ]
    },
    {
     "name": "stderr",
     "output_type": "stream",
     "text": [
      "100%|██████████| 64/64 [01:46<00:00,  1.67s/it, loss=0.0455]\n",
      "100%|██████████| 14/14 [00:15<00:00,  1.13s/it, validation_loss=0.376]\n"
     ]
    },
    {
     "name": "stdout",
     "output_type": "stream",
     "text": [
      "Epoch: 25    0.0619      0.1057      0.5686      0.8652      0.9644      0.7513      0.1216      0.3256      0.5483\n"
     ]
    },
    {
     "name": "stderr",
     "output_type": "stream",
     "text": [
      "100%|██████████| 64/64 [01:47<00:00,  1.68s/it, loss=0.0248]\n",
      "100%|██████████| 14/14 [00:15<00:00,  1.12s/it, validation_loss=0.381]\n"
     ]
    },
    {
     "name": "stdout",
     "output_type": "stream",
     "text": [
      "Epoch: 26    0.0579      0.1084      0.5493      0.8482      0.9588      0.7660      0.1278      0.3241      0.5183\n"
     ]
    },
    {
     "name": "stderr",
     "output_type": "stream",
     "text": [
      "100%|██████████| 64/64 [01:47<00:00,  1.68s/it, loss=0.0586]\n",
      "100%|██████████| 14/14 [00:15<00:00,  1.11s/it, validation_loss=0.369]\n"
     ]
    },
    {
     "name": "stdout",
     "output_type": "stream",
     "text": [
      "Epoch: 27    0.0582      0.1017      0.6126      0.8907      0.9660      0.7137      0.1138      0.3394      0.5966\n"
     ]
    },
    {
     "name": "stderr",
     "output_type": "stream",
     "text": [
      "100%|██████████| 64/64 [01:47<00:00,  1.68s/it, loss=0.0337]\n",
      "100%|██████████| 14/14 [00:15<00:00,  1.12s/it, validation_loss=0.399]\n"
     ]
    },
    {
     "name": "stdout",
     "output_type": "stream",
     "text": [
      "Epoch: 28    0.0541      0.1107      0.5767      0.8600      0.9604      0.7526      0.1256      0.3376      0.6100\n"
     ]
    },
    {
     "name": "stderr",
     "output_type": "stream",
     "text": [
      "100%|██████████| 64/64 [01:46<00:00,  1.66s/it, loss=0.0481]\n",
      "100%|██████████| 14/14 [00:15<00:00,  1.13s/it, validation_loss=0.379]\n"
     ]
    },
    {
     "name": "stdout",
     "output_type": "stream",
     "text": [
      "Epoch: 29    0.0537      0.1132      0.5267      0.8375      0.9539      0.7916      0.1333      0.3318      0.5252\n"
     ]
    },
    {
     "name": "stderr",
     "output_type": "stream",
     "text": [
      "100%|██████████| 64/64 [01:45<00:00,  1.65s/it, loss=0.0579]\n",
      "100%|██████████| 14/14 [00:15<00:00,  1.12s/it, validation_loss=0.366]\n"
     ]
    },
    {
     "name": "stdout",
     "output_type": "stream",
     "text": [
      "Epoch: 30    0.0514      0.1048      0.5965      0.8798      0.9645      0.7343      0.1165      0.3392      0.5781\n",
      "=> Saving checkpoint\n",
      "\n"
     ]
    }
   ],
   "source": [
    "import warnings\n",
    "warnings.filterwarnings(\"ignore\")\n",
    "main()"
   ]
  },
  {
   "cell_type": "code",
   "execution_count": null,
   "metadata": {
    "id": "XIAvwB0AhFRL"
   },
   "outputs": [],
   "source": []
  },
  {
   "cell_type": "code",
   "execution_count": null,
   "metadata": {
    "id": "y-9PW2xIY0e-"
   },
   "outputs": [],
   "source": []
  },
  {
   "cell_type": "code",
   "execution_count": null,
   "metadata": {
    "colab": {
     "base_uri": "https://localhost:8080/",
     "height": 265
    },
    "id": "3FX0aHubY0hs",
    "outputId": "94abcced-25b4-446a-acae-55aa7eb64514"
   },
   "outputs": [
    {
     "data": {
      "image/png": "[encoded data removed]",
      "text/plain": [
       "<Figure size 432x288 with 1 Axes>"
      ]
     },
     "metadata": {
      "needs_background": "light"
     },
     "output_type": "display_data"
    }
   ],
   "source": [
    "import matplotlib.pyplot as plt\n",
    "\n",
    "UNET_MODEL_PATH = \"/content/drive/MyDrive/Neural Network Project/Datasets/NYU/Unet_Models/unet_model_30.pth.tar\"\n",
    "\n",
    "unet_checkpoint = torch.load(UNET_MODEL_PATH)\n",
    "unet_train_losses = unet_checkpoint[\"train_losses\"]\n",
    "unet_validation_losses = unet_checkpoint[\"validation_losses\"]\n",
    "\n",
    "x = [i for i in range(1, len(train_losses)+1)]\n",
    "plt.plot(x, unet_train_losses, label = \"train_losses\")\n",
    "plt.plot(x, unet_validation_losses, label = \"validation_losses\")\n",
    "plt.legend()\n",
    "plt.show()"
   ]
  },
  {
   "cell_type": "code",
   "execution_count": null,
   "metadata": {
    "id": "Jj9BbiDtnwRf"
   },
   "outputs": [],
   "source": []
  },
  {
   "cell_type": "code",
   "execution_count": null,
   "metadata": {
    "id": "F4zcjoXOpubG"
   },
   "outputs": [],
   "source": []
  },
  {
   "cell_type": "code",
   "execution_count": null,
   "metadata": {
    "id": "o-WYfsc0sM7L"
   },
   "outputs": [],
   "source": []
  },
  {
   "cell_type": "markdown",
   "metadata": {
    "id": "ICzn4lbDxdrk"
   },
   "source": [
    "### **Testing**"
   ]
  },
  {
   "cell_type": "code",
   "execution_count": null,
   "metadata": {
    "colab": {
     "base_uri": "https://localhost:8080/"
    },
    "id": "XfE4MfUbxdKK",
    "outputId": "9a41b907-9448-4491-c163-bf56986298bf"
   },
   "outputs": [
    {
     "name": "stdout",
     "output_type": "stream",
     "text": [
      "/content/drive/MyDrive/Neural Network Project\n"
     ]
    }
   ],
   "source": [
    "%cd /content/drive/MyDrive/Neural\\ Network\\ Project"
   ]
  },
  {
   "cell_type": "code",
   "execution_count": null,
   "metadata": {
    "id": "uhLkY0c1xdKP"
   },
   "outputs": [],
   "source": [
    "import os\n",
    "import cv2\n",
    "from PIL import Image\n",
    "import numpy as np\n",
    "import torchvision.transforms as transforms\n",
    "import torch\n",
    "from Onet import ONET\n",
    "from DataLoader import TransposeDepthInput, NYUDataset, save_checkpoint, get_loaders, save_predictions_as_imgs\n",
    "from metrics import ScaleInvariantLoss, threeshold_percentage, rmse_linear, rmse_log, abs_relative_difference, squared_relative_difference"
   ]
  },
  {
   "cell_type": "code",
   "execution_count": null,
   "metadata": {
    "id": "mp1PIEApxhHQ"
   },
   "outputs": [],
   "source": [
    "IMAGE_HEIGHT = 120\n",
    "IMAGE_WIDTH = 160\n",
    "\n",
    "rgb_data_transforms = transforms.Compose([\n",
    "    transforms.Resize((IMAGE_HEIGHT, IMAGE_WIDTH)),\n",
    "    transforms.ToTensor(),\n",
    "])"
   ]
  },
  {
   "cell_type": "code",
   "execution_count": null,
   "metadata": {
    "colab": {
     "base_uri": "https://localhost:8080/"
    },
    "id": "pzQsrws-xhPO",
    "outputId": "078500ec-6c9c-462f-9f6e-98fda48510d6"
   },
   "outputs": [
    {
     "data": {
      "text/plain": [
       "<All keys matched successfully>"
      ]
     },
     "execution_count": 7,
     "metadata": {},
     "output_type": "execute_result"
    }
   ],
   "source": [
    "import matplotlib.pyplot as plt\n",
    "\n",
    "DEVICE = \"cuda\" if torch.cuda.is_available() else \"cpu\"\n",
    "ONET_MODEL_PATH = \"Models/Onet/checkpoint/Onet_model_90_cv.pth.tar\"\n",
    "TRAIN_SAVE_PATH = \"Models/Onet/predictions/Train/\"\n",
    "VAL_SAVE_PATH = \"Models/Onet/predictions/Validation/\"\n",
    "TEST_SAVE_PATH = \"Models/Onet/predictions/Test/\"\n",
    "\n",
    "TRAIN_IMG_DIR = \"Datasets/Train/images/\"\n",
    "TRAIN_DEPTH_DIR = \"Datasets/Train/depths/\"\n",
    "VAL_IMG_DIR = \"Datasets/Validation/images/\"\n",
    "VAL_DEPTH_DIR = \"Datasets/Validation/depths/\"\n",
    "TEST_IMG_DIR = \"Datasets/Test/images/\"\n",
    "TEST_DEPTH_DIR = \"Datasets/Test/depths/\"\n",
    "\n",
    "model = ONET(in_channels1=3, in_channels2=2, out_channels=1).to(DEVICE)\n",
    "\n",
    "# Loading Unet model\n",
    "checkpoint = torch.load(ONET_MODEL_PATH)\n",
    "model.load_state_dict(checkpoint[\"state_dict\"])"
   ]
  },
  {
   "cell_type": "code",
   "execution_count": null,
   "metadata": {
    "id": "_hv_32ZF143-"
   },
   "outputs": [],
   "source": [
    "def Save_Predictions(image_dir, depth_dir, save_dir):\n",
    "    model.eval()\n",
    "    for image_name in os.listdir(image_dir):\n",
    "        # Load the image and dpeth\n",
    "        image = cv2.imread(image_dir + image_name, cv2.IMREAD_UNCHANGED)\n",
    "        depth = cv2.imread(depth_dir+ image_name, cv2.IMREAD_UNCHANGED)\n",
    "        image = cv2.cvtColor(image, cv2.COLOR_BGR2RGB)\n",
    "        image = Image.fromarray(image)\n",
    "        image = rgb_data_transforms(image)\n",
    "\n",
    "        # Find the gradient\n",
    "        gray = np.moveaxis(image.numpy(), [0, 1, 2], [2, 0, 1])\n",
    "        gray = cv2.cvtColor(gray, cv2.COLOR_BGR2GRAY)\n",
    "        gx = cv2.Sobel(gray, ddepth = cv2.CV_32F, dx=1, dy=0, ksize=3)\n",
    "        gy = cv2.Sobel(gray, ddepth = cv2.CV_32F, dx=0, dy=1, ksize=3)\n",
    "        gradient = torch.from_numpy(np.stack([gx, gy]))\n",
    "\n",
    "        image = torch.unsqueeze(image, 0)\n",
    "        gradient = torch.unsqueeze(gradient, 0)\n",
    "\n",
    "        # Predict the output\n",
    "        image = image.to(device=DEVICE)\n",
    "        gradient = gradient.to(device=DEVICE)\n",
    "        with torch.no_grad():\n",
    "            predicted = model(image, gradient)\n",
    "\n",
    "        image = image.cpu()\n",
    "        predicted = predicted.cpu()\n",
    "\n",
    "        input_image = np.zeros((120, 160, 3), dtype=np.float32)\n",
    "        input_image[:, :, 0] = image[0, 0, :, :]\n",
    "        input_image[:, :, 1] = image[0, 1, :, :]\n",
    "        input_image[:, :, 2] = image[0, 2, :, :]\n",
    "        predicted = predicted[0, 0, :, :]\n",
    "\n",
    "        fig = plt.figure(figsize=(14, 6))\n",
    "\n",
    "        ax = fig.add_subplot(1, 3, 1)\n",
    "        ax.set_title('Input image')\n",
    "        plt.imshow(input_image)\n",
    "        ax = fig.add_subplot(1, 3, 2)\n",
    "        ax.set_title('Ground truth')\n",
    "        plt.imshow(depth, cmap='gist_gray')    #plt.imshow(actual_depth, cmap='jet')\n",
    "        ax = fig.add_subplot(1, 3, 3)\n",
    "        ax.set_title('Onet predicted')\n",
    "        plt.imshow(predicted, cmap='gist_gray')\n",
    "        plt.savefig(f'{save_dir}/{image_name}')\n",
    "        plt.close(fig)\n",
    "        \n",
    "    model.train()"
   ]
  },
  {
   "cell_type": "code",
   "execution_count": null,
   "metadata": {
    "id": "n2hLrZ2j1xEi"
   },
   "outputs": [],
   "source": [
    "Save_Predictions(VAL_IMG_DIR, VAL_DEPTH_DIR, VAL_SAVE_PATH)"
   ]
  },
  {
   "cell_type": "code",
   "execution_count": null,
   "metadata": {
    "id": "vBlw9zbz-Jlb"
   },
   "outputs": [],
   "source": [
    "Save_Predictions(TRAIN_IMG_DIR, TRAIN_DEPTH_DIR, TRAIN_SAVE_PATH)"
   ]
  },
  {
   "cell_type": "code",
   "execution_count": null,
   "metadata": {
    "id": "I3e4lIbu34u9"
   },
   "outputs": [],
   "source": [
    "Save_Predictions(TEST_IMG_DIR, TEST_DEPTH_DIR, TEST_SAVE_PATH)"
   ]
  },
  {
   "cell_type": "code",
   "execution_count": null,
   "metadata": {
    "id": "ohH0z6ZPEW31"
   },
   "outputs": [],
   "source": []
  },
  {
   "cell_type": "markdown",
   "metadata": {
    "id": "Y8aUbM_6OUZh"
   },
   "source": [
    "### **Time taken**"
   ]
  },
  {
   "cell_type": "code",
   "execution_count": null,
   "metadata": {
    "colab": {
     "base_uri": "https://localhost:8080/"
    },
    "id": "YUCw66JVOT6q",
    "outputId": "a1f4fc7a-ec4d-4e69-ee11-0d1cea413cb4"
   },
   "outputs": [
    {
     "name": "stdout",
     "output_type": "stream",
     "text": [
      "Time taken: 0.10464584827423096\n",
      "Time taken: 0.010366077423095704\n"
     ]
    }
   ],
   "source": [
    "import time\n",
    "model.eval()\n",
    "start_time = time.time()\n",
    "num_images = 50\n",
    "time_taken = 0\n",
    "for i in range(num_images):\n",
    "    image = cv2.imread(TRAIN_IMG_DIR + str(i) + '.png', cv2.IMREAD_UNCHANGED)\n",
    "    depth = cv2.imread(TRAIN_DEPTH_DIR + str(i) + '.png', cv2.IMREAD_UNCHANGED)\n",
    "    image = cv2.cvtColor(image, cv2.COLOR_BGR2RGB)\n",
    "    image = Image.fromarray(image)\n",
    "    image = rgb_data_transforms(image)\n",
    "\n",
    "    # Find the gradient\n",
    "    gray = np.moveaxis(image.numpy(), [0, 1, 2], [2, 0, 1])\n",
    "    gray = cv2.cvtColor(gray, cv2.COLOR_BGR2GRAY)\n",
    "    gx = cv2.Sobel(gray, ddepth = cv2.CV_32F, dx=1, dy=0, ksize=3)\n",
    "    gy = cv2.Sobel(gray, ddepth = cv2.CV_32F, dx=0, dy=1, ksize=3)\n",
    "    gradient = torch.from_numpy(np.stack([gx, gy]))\n",
    "\n",
    "    image = torch.unsqueeze(image, 0)\n",
    "    gradient = torch.unsqueeze(gradient, 0)\n",
    "\n",
    "    # Predict the output\n",
    "    image = image.to(device=DEVICE)\n",
    "    gradient = gradient.to(device=DEVICE)\n",
    "    with torch.no_grad():\n",
    "        start_time1 = time.time()\n",
    "        predicted = model(image, gradient)\n",
    "        end_time1 = time.time()\n",
    "    time_taken += (end_time1 - start_time1)\n",
    "end_time = time.time()\n",
    "model.train()\n",
    "print('Time taken:', (end_time-start_time)/num_images)\n",
    "print('Time taken:', (time_taken)/num_images)"
   ]
  },
  {
   "cell_type": "code",
   "execution_count": null,
   "metadata": {
    "id": "zNlfw6ImSA4L"
   },
   "outputs": [],
   "source": []
  },
  {
   "cell_type": "code",
   "execution_count": null,
   "metadata": {
    "id": "oNYly0ZISA69"
   },
   "outputs": [],
   "source": []
  },
  {
   "cell_type": "markdown",
   "metadata": {
    "id": "Gx7Ry4e2Qxie"
   },
   "source": [
    "### **Model summary**"
   ]
  },
  {
   "cell_type": "code",
   "execution_count": null,
   "metadata": {
    "colab": {
     "base_uri": "https://localhost:8080/"
    },
    "id": "NnANJxLQVkRs",
    "outputId": "1f2c9cbf-0cac-4850-ff43-bfc3c708adb3"
   },
   "outputs": [
    {
     "name": "stdout",
     "output_type": "stream",
     "text": [
      "ONET(\n",
      "  (ups): ModuleList()\n",
      "  (downs1): DownConv(\n",
      "    (downs): ModuleList(\n",
      "      (0): DoubleConv(\n",
      "        (conv): Sequential(\n",
      "          (0): Conv2d(3, 64, kernel_size=(3, 3), stride=(1, 1), padding=(1, 1), bias=False)\n",
      "          (1): BatchNorm2d(64, eps=1e-05, momentum=0.1, affine=True, track_running_stats=True)\n",
      "          (2): ReLU(inplace=True)\n",
      "          (3): Conv2d(64, 64, kernel_size=(3, 3), stride=(1, 1), padding=(1, 1), bias=False)\n",
      "          (4): BatchNorm2d(64, eps=1e-05, momentum=0.1, affine=True, track_running_stats=True)\n",
      "          (5): ReLU(inplace=True)\n",
      "        )\n",
      "      )\n",
      "      (1): DoubleConv(\n",
      "        (conv): Sequential(\n",
      "          (0): Conv2d(64, 128, kernel_size=(3, 3), stride=(1, 1), padding=(1, 1), bias=False)\n",
      "          (1): BatchNorm2d(128, eps=1e-05, momentum=0.1, affine=True, track_running_stats=True)\n",
      "          (2): ReLU(inplace=True)\n",
      "          (3): Conv2d(128, 128, kernel_size=(3, 3), stride=(1, 1), padding=(1, 1), bias=False)\n",
      "          (4): BatchNorm2d(128, eps=1e-05, momentum=0.1, affine=True, track_running_stats=True)\n",
      "          (5): ReLU(inplace=True)\n",
      "        )\n",
      "      )\n",
      "      (2): DoubleConv(\n",
      "        (conv): Sequential(\n",
      "          (0): Conv2d(128, 256, kernel_size=(3, 3), stride=(1, 1), padding=(1, 1), bias=False)\n",
      "          (1): BatchNorm2d(256, eps=1e-05, momentum=0.1, affine=True, track_running_stats=True)\n",
      "          (2): ReLU(inplace=True)\n",
      "          (3): Conv2d(256, 256, kernel_size=(3, 3), stride=(1, 1), padding=(1, 1), bias=False)\n",
      "          (4): BatchNorm2d(256, eps=1e-05, momentum=0.1, affine=True, track_running_stats=True)\n",
      "          (5): ReLU(inplace=True)\n",
      "        )\n",
      "      )\n",
      "      (3): DoubleConv(\n",
      "        (conv): Sequential(\n",
      "          (0): Conv2d(256, 512, kernel_size=(3, 3), stride=(1, 1), padding=(1, 1), bias=False)\n",
      "          (1): BatchNorm2d(512, eps=1e-05, momentum=0.1, affine=True, track_running_stats=True)\n",
      "          (2): ReLU(inplace=True)\n",
      "          (3): Conv2d(512, 512, kernel_size=(3, 3), stride=(1, 1), padding=(1, 1), bias=False)\n",
      "          (4): BatchNorm2d(512, eps=1e-05, momentum=0.1, affine=True, track_running_stats=True)\n",
      "          (5): ReLU(inplace=True)\n",
      "        )\n",
      "      )\n",
      "    )\n",
      "    (pool): MaxPool2d(kernel_size=2, stride=2, padding=0, dilation=1, ceil_mode=False)\n",
      "    (bottleneck): DoubleConv(\n",
      "      (conv): Sequential(\n",
      "        (0): Conv2d(512, 1024, kernel_size=(3, 3), stride=(1, 1), padding=(1, 1), bias=False)\n",
      "        (1): BatchNorm2d(1024, eps=1e-05, momentum=0.1, affine=True, track_running_stats=True)\n",
      "        (2): ReLU(inplace=True)\n",
      "        (3): Conv2d(1024, 1024, kernel_size=(3, 3), stride=(1, 1), padding=(1, 1), bias=False)\n",
      "        (4): BatchNorm2d(1024, eps=1e-05, momentum=0.1, affine=True, track_running_stats=True)\n",
      "        (5): ReLU(inplace=True)\n",
      "      )\n",
      "    )\n",
      "  )\n",
      "  (downs2): DownConv(\n",
      "    (downs): ModuleList(\n",
      "      (0): DoubleConv(\n",
      "        (conv): Sequential(\n",
      "          (0): Conv2d(2, 64, kernel_size=(3, 3), stride=(1, 1), padding=(1, 1), bias=False)\n",
      "          (1): BatchNorm2d(64, eps=1e-05, momentum=0.1, affine=True, track_running_stats=True)\n",
      "          (2): ReLU(inplace=True)\n",
      "          (3): Conv2d(64, 64, kernel_size=(3, 3), stride=(1, 1), padding=(1, 1), bias=False)\n",
      "          (4): BatchNorm2d(64, eps=1e-05, momentum=0.1, affine=True, track_running_stats=True)\n",
      "          (5): ReLU(inplace=True)\n",
      "        )\n",
      "      )\n",
      "      (1): DoubleConv(\n",
      "        (conv): Sequential(\n",
      "          (0): Conv2d(64, 128, kernel_size=(3, 3), stride=(1, 1), padding=(1, 1), bias=False)\n",
      "          (1): BatchNorm2d(128, eps=1e-05, momentum=0.1, affine=True, track_running_stats=True)\n",
      "          (2): ReLU(inplace=True)\n",
      "          (3): Conv2d(128, 128, kernel_size=(3, 3), stride=(1, 1), padding=(1, 1), bias=False)\n",
      "          (4): BatchNorm2d(128, eps=1e-05, momentum=0.1, affine=True, track_running_stats=True)\n",
      "          (5): ReLU(inplace=True)\n",
      "        )\n",
      "      )\n",
      "      (2): DoubleConv(\n",
      "        (conv): Sequential(\n",
      "          (0): Conv2d(128, 256, kernel_size=(3, 3), stride=(1, 1), padding=(1, 1), bias=False)\n",
      "          (1): BatchNorm2d(256, eps=1e-05, momentum=0.1, affine=True, track_running_stats=True)\n",
      "          (2): ReLU(inplace=True)\n",
      "          (3): Conv2d(256, 256, kernel_size=(3, 3), stride=(1, 1), padding=(1, 1), bias=False)\n",
      "          (4): BatchNorm2d(256, eps=1e-05, momentum=0.1, affine=True, track_running_stats=True)\n",
      "          (5): ReLU(inplace=True)\n",
      "        )\n",
      "      )\n",
      "      (3): DoubleConv(\n",
      "        (conv): Sequential(\n",
      "          (0): Conv2d(256, 512, kernel_size=(3, 3), stride=(1, 1), padding=(1, 1), bias=False)\n",
      "          (1): BatchNorm2d(512, eps=1e-05, momentum=0.1, affine=True, track_running_stats=True)\n",
      "          (2): ReLU(inplace=True)\n",
      "          (3): Conv2d(512, 512, kernel_size=(3, 3), stride=(1, 1), padding=(1, 1), bias=False)\n",
      "          (4): BatchNorm2d(512, eps=1e-05, momentum=0.1, affine=True, track_running_stats=True)\n",
      "          (5): ReLU(inplace=True)\n",
      "        )\n",
      "      )\n",
      "    )\n",
      "    (pool): MaxPool2d(kernel_size=2, stride=2, padding=0, dilation=1, ceil_mode=False)\n",
      "    (bottleneck): DoubleConv(\n",
      "      (conv): Sequential(\n",
      "        (0): Conv2d(512, 1024, kernel_size=(3, 3), stride=(1, 1), padding=(1, 1), bias=False)\n",
      "        (1): BatchNorm2d(1024, eps=1e-05, momentum=0.1, affine=True, track_running_stats=True)\n",
      "        (2): ReLU(inplace=True)\n",
      "        (3): Conv2d(1024, 1024, kernel_size=(3, 3), stride=(1, 1), padding=(1, 1), bias=False)\n",
      "        (4): BatchNorm2d(1024, eps=1e-05, momentum=0.1, affine=True, track_running_stats=True)\n",
      "        (5): ReLU(inplace=True)\n",
      "      )\n",
      "    )\n",
      "  )\n",
      "  (up1): UpConv(\n",
      "    (ups): ModuleList(\n",
      "      (0): ConvTranspose2d(1024, 512, kernel_size=(2, 2), stride=(2, 2))\n",
      "      (1): DoubleConv(\n",
      "        (conv): Sequential(\n",
      "          (0): Conv2d(1536, 512, kernel_size=(3, 3), stride=(1, 1), padding=(1, 1), bias=False)\n",
      "          (1): BatchNorm2d(512, eps=1e-05, momentum=0.1, affine=True, track_running_stats=True)\n",
      "          (2): ReLU(inplace=True)\n",
      "          (3): Conv2d(512, 512, kernel_size=(3, 3), stride=(1, 1), padding=(1, 1), bias=False)\n",
      "          (4): BatchNorm2d(512, eps=1e-05, momentum=0.1, affine=True, track_running_stats=True)\n",
      "          (5): ReLU(inplace=True)\n",
      "        )\n",
      "      )\n",
      "      (2): ConvTranspose2d(512, 256, kernel_size=(2, 2), stride=(2, 2))\n",
      "      (3): DoubleConv(\n",
      "        (conv): Sequential(\n",
      "          (0): Conv2d(768, 256, kernel_size=(3, 3), stride=(1, 1), padding=(1, 1), bias=False)\n",
      "          (1): BatchNorm2d(256, eps=1e-05, momentum=0.1, affine=True, track_running_stats=True)\n",
      "          (2): ReLU(inplace=True)\n",
      "          (3): Conv2d(256, 256, kernel_size=(3, 3), stride=(1, 1), padding=(1, 1), bias=False)\n",
      "          (4): BatchNorm2d(256, eps=1e-05, momentum=0.1, affine=True, track_running_stats=True)\n",
      "          (5): ReLU(inplace=True)\n",
      "        )\n",
      "      )\n",
      "      (4): ConvTranspose2d(256, 128, kernel_size=(2, 2), stride=(2, 2))\n",
      "      (5): DoubleConv(\n",
      "        (conv): Sequential(\n",
      "          (0): Conv2d(384, 128, kernel_size=(3, 3), stride=(1, 1), padding=(1, 1), bias=False)\n",
      "          (1): BatchNorm2d(128, eps=1e-05, momentum=0.1, affine=True, track_running_stats=True)\n",
      "          (2): ReLU(inplace=True)\n",
      "          (3): Conv2d(128, 128, kernel_size=(3, 3), stride=(1, 1), padding=(1, 1), bias=False)\n",
      "          (4): BatchNorm2d(128, eps=1e-05, momentum=0.1, affine=True, track_running_stats=True)\n",
      "          (5): ReLU(inplace=True)\n",
      "        )\n",
      "      )\n",
      "      (6): ConvTranspose2d(128, 64, kernel_size=(2, 2), stride=(2, 2))\n",
      "      (7): DoubleConv(\n",
      "        (conv): Sequential(\n",
      "          (0): Conv2d(192, 64, kernel_size=(3, 3), stride=(1, 1), padding=(1, 1), bias=False)\n",
      "          (1): BatchNorm2d(64, eps=1e-05, momentum=0.1, affine=True, track_running_stats=True)\n",
      "          (2): ReLU(inplace=True)\n",
      "          (3): Conv2d(64, 64, kernel_size=(3, 3), stride=(1, 1), padding=(1, 1), bias=False)\n",
      "          (4): BatchNorm2d(64, eps=1e-05, momentum=0.1, affine=True, track_running_stats=True)\n",
      "          (5): ReLU(inplace=True)\n",
      "        )\n",
      "      )\n",
      "    )\n",
      "    (downs1): DownConv(\n",
      "      (downs): ModuleList(\n",
      "        (0): DoubleConv(\n",
      "          (conv): Sequential(\n",
      "            (0): Conv2d(3, 64, kernel_size=(3, 3), stride=(1, 1), padding=(1, 1), bias=False)\n",
      "            (1): BatchNorm2d(64, eps=1e-05, momentum=0.1, affine=True, track_running_stats=True)\n",
      "            (2): ReLU(inplace=True)\n",
      "            (3): Conv2d(64, 64, kernel_size=(3, 3), stride=(1, 1), padding=(1, 1), bias=False)\n",
      "            (4): BatchNorm2d(64, eps=1e-05, momentum=0.1, affine=True, track_running_stats=True)\n",
      "            (5): ReLU(inplace=True)\n",
      "          )\n",
      "        )\n",
      "        (1): DoubleConv(\n",
      "          (conv): Sequential(\n",
      "            (0): Conv2d(64, 128, kernel_size=(3, 3), stride=(1, 1), padding=(1, 1), bias=False)\n",
      "            (1): BatchNorm2d(128, eps=1e-05, momentum=0.1, affine=True, track_running_stats=True)\n",
      "            (2): ReLU(inplace=True)\n",
      "            (3): Conv2d(128, 128, kernel_size=(3, 3), stride=(1, 1), padding=(1, 1), bias=False)\n",
      "            (4): BatchNorm2d(128, eps=1e-05, momentum=0.1, affine=True, track_running_stats=True)\n",
      "            (5): ReLU(inplace=True)\n",
      "          )\n",
      "        )\n",
      "        (2): DoubleConv(\n",
      "          (conv): Sequential(\n",
      "            (0): Conv2d(128, 256, kernel_size=(3, 3), stride=(1, 1), padding=(1, 1), bias=False)\n",
      "            (1): BatchNorm2d(256, eps=1e-05, momentum=0.1, affine=True, track_running_stats=True)\n",
      "            (2): ReLU(inplace=True)\n",
      "            (3): Conv2d(256, 256, kernel_size=(3, 3), stride=(1, 1), padding=(1, 1), bias=False)\n",
      "            (4): BatchNorm2d(256, eps=1e-05, momentum=0.1, affine=True, track_running_stats=True)\n",
      "            (5): ReLU(inplace=True)\n",
      "          )\n",
      "        )\n",
      "        (3): DoubleConv(\n",
      "          (conv): Sequential(\n",
      "            (0): Conv2d(256, 512, kernel_size=(3, 3), stride=(1, 1), padding=(1, 1), bias=False)\n",
      "            (1): BatchNorm2d(512, eps=1e-05, momentum=0.1, affine=True, track_running_stats=True)\n",
      "            (2): ReLU(inplace=True)\n",
      "            (3): Conv2d(512, 512, kernel_size=(3, 3), stride=(1, 1), padding=(1, 1), bias=False)\n",
      "            (4): BatchNorm2d(512, eps=1e-05, momentum=0.1, affine=True, track_running_stats=True)\n",
      "            (5): ReLU(inplace=True)\n",
      "          )\n",
      "        )\n",
      "      )\n",
      "      (pool): MaxPool2d(kernel_size=2, stride=2, padding=0, dilation=1, ceil_mode=False)\n",
      "      (bottleneck): DoubleConv(\n",
      "        (conv): Sequential(\n",
      "          (0): Conv2d(512, 1024, kernel_size=(3, 3), stride=(1, 1), padding=(1, 1), bias=False)\n",
      "          (1): BatchNorm2d(1024, eps=1e-05, momentum=0.1, affine=True, track_running_stats=True)\n",
      "          (2): ReLU(inplace=True)\n",
      "          (3): Conv2d(1024, 1024, kernel_size=(3, 3), stride=(1, 1), padding=(1, 1), bias=False)\n",
      "          (4): BatchNorm2d(1024, eps=1e-05, momentum=0.1, affine=True, track_running_stats=True)\n",
      "          (5): ReLU(inplace=True)\n",
      "        )\n",
      "      )\n",
      "    )\n",
      "    (downs2): DownConv(\n",
      "      (downs): ModuleList(\n",
      "        (0): DoubleConv(\n",
      "          (conv): Sequential(\n",
      "            (0): Conv2d(2, 64, kernel_size=(3, 3), stride=(1, 1), padding=(1, 1), bias=False)\n",
      "            (1): BatchNorm2d(64, eps=1e-05, momentum=0.1, affine=True, track_running_stats=True)\n",
      "            (2): ReLU(inplace=True)\n",
      "            (3): Conv2d(64, 64, kernel_size=(3, 3), stride=(1, 1), padding=(1, 1), bias=False)\n",
      "            (4): BatchNorm2d(64, eps=1e-05, momentum=0.1, affine=True, track_running_stats=True)\n",
      "            (5): ReLU(inplace=True)\n",
      "          )\n",
      "        )\n",
      "        (1): DoubleConv(\n",
      "          (conv): Sequential(\n",
      "            (0): Conv2d(64, 128, kernel_size=(3, 3), stride=(1, 1), padding=(1, 1), bias=False)\n",
      "            (1): BatchNorm2d(128, eps=1e-05, momentum=0.1, affine=True, track_running_stats=True)\n",
      "            (2): ReLU(inplace=True)\n",
      "            (3): Conv2d(128, 128, kernel_size=(3, 3), stride=(1, 1), padding=(1, 1), bias=False)\n",
      "            (4): BatchNorm2d(128, eps=1e-05, momentum=0.1, affine=True, track_running_stats=True)\n",
      "            (5): ReLU(inplace=True)\n",
      "          )\n",
      "        )\n",
      "        (2): DoubleConv(\n",
      "          (conv): Sequential(\n",
      "            (0): Conv2d(128, 256, kernel_size=(3, 3), stride=(1, 1), padding=(1, 1), bias=False)\n",
      "            (1): BatchNorm2d(256, eps=1e-05, momentum=0.1, affine=True, track_running_stats=True)\n",
      "            (2): ReLU(inplace=True)\n",
      "            (3): Conv2d(256, 256, kernel_size=(3, 3), stride=(1, 1), padding=(1, 1), bias=False)\n",
      "            (4): BatchNorm2d(256, eps=1e-05, momentum=0.1, affine=True, track_running_stats=True)\n",
      "            (5): ReLU(inplace=True)\n",
      "          )\n",
      "        )\n",
      "        (3): DoubleConv(\n",
      "          (conv): Sequential(\n",
      "            (0): Conv2d(256, 512, kernel_size=(3, 3), stride=(1, 1), padding=(1, 1), bias=False)\n",
      "            (1): BatchNorm2d(512, eps=1e-05, momentum=0.1, affine=True, track_running_stats=True)\n",
      "            (2): ReLU(inplace=True)\n",
      "            (3): Conv2d(512, 512, kernel_size=(3, 3), stride=(1, 1), padding=(1, 1), bias=False)\n",
      "            (4): BatchNorm2d(512, eps=1e-05, momentum=0.1, affine=True, track_running_stats=True)\n",
      "            (5): ReLU(inplace=True)\n",
      "          )\n",
      "        )\n",
      "      )\n",
      "      (pool): MaxPool2d(kernel_size=2, stride=2, padding=0, dilation=1, ceil_mode=False)\n",
      "      (bottleneck): DoubleConv(\n",
      "        (conv): Sequential(\n",
      "          (0): Conv2d(512, 1024, kernel_size=(3, 3), stride=(1, 1), padding=(1, 1), bias=False)\n",
      "          (1): BatchNorm2d(1024, eps=1e-05, momentum=0.1, affine=True, track_running_stats=True)\n",
      "          (2): ReLU(inplace=True)\n",
      "          (3): Conv2d(1024, 1024, kernel_size=(3, 3), stride=(1, 1), padding=(1, 1), bias=False)\n",
      "          (4): BatchNorm2d(1024, eps=1e-05, momentum=0.1, affine=True, track_running_stats=True)\n",
      "          (5): ReLU(inplace=True)\n",
      "        )\n",
      "      )\n",
      "    )\n",
      "  )\n",
      "  (up2): UpConv(\n",
      "    (ups): ModuleList(\n",
      "      (0): ConvTranspose2d(1024, 512, kernel_size=(2, 2), stride=(2, 2))\n",
      "      (1): DoubleConv(\n",
      "        (conv): Sequential(\n",
      "          (0): Conv2d(1536, 512, kernel_size=(3, 3), stride=(1, 1), padding=(1, 1), bias=False)\n",
      "          (1): BatchNorm2d(512, eps=1e-05, momentum=0.1, affine=True, track_running_stats=True)\n",
      "          (2): ReLU(inplace=True)\n",
      "          (3): Conv2d(512, 512, kernel_size=(3, 3), stride=(1, 1), padding=(1, 1), bias=False)\n",
      "          (4): BatchNorm2d(512, eps=1e-05, momentum=0.1, affine=True, track_running_stats=True)\n",
      "          (5): ReLU(inplace=True)\n",
      "        )\n",
      "      )\n",
      "      (2): ConvTranspose2d(512, 256, kernel_size=(2, 2), stride=(2, 2))\n",
      "      (3): DoubleConv(\n",
      "        (conv): Sequential(\n",
      "          (0): Conv2d(768, 256, kernel_size=(3, 3), stride=(1, 1), padding=(1, 1), bias=False)\n",
      "          (1): BatchNorm2d(256, eps=1e-05, momentum=0.1, affine=True, track_running_stats=True)\n",
      "          (2): ReLU(inplace=True)\n",
      "          (3): Conv2d(256, 256, kernel_size=(3, 3), stride=(1, 1), padding=(1, 1), bias=False)\n",
      "          (4): BatchNorm2d(256, eps=1e-05, momentum=0.1, affine=True, track_running_stats=True)\n",
      "          (5): ReLU(inplace=True)\n",
      "        )\n",
      "      )\n",
      "      (4): ConvTranspose2d(256, 128, kernel_size=(2, 2), stride=(2, 2))\n",
      "      (5): DoubleConv(\n",
      "        (conv): Sequential(\n",
      "          (0): Conv2d(384, 128, kernel_size=(3, 3), stride=(1, 1), padding=(1, 1), bias=False)\n",
      "          (1): BatchNorm2d(128, eps=1e-05, momentum=0.1, affine=True, track_running_stats=True)\n",
      "          (2): ReLU(inplace=True)\n",
      "          (3): Conv2d(128, 128, kernel_size=(3, 3), stride=(1, 1), padding=(1, 1), bias=False)\n",
      "          (4): BatchNorm2d(128, eps=1e-05, momentum=0.1, affine=True, track_running_stats=True)\n",
      "          (5): ReLU(inplace=True)\n",
      "        )\n",
      "      )\n",
      "      (6): ConvTranspose2d(128, 64, kernel_size=(2, 2), stride=(2, 2))\n",
      "      (7): DoubleConv(\n",
      "        (conv): Sequential(\n",
      "          (0): Conv2d(192, 64, kernel_size=(3, 3), stride=(1, 1), padding=(1, 1), bias=False)\n",
      "          (1): BatchNorm2d(64, eps=1e-05, momentum=0.1, affine=True, track_running_stats=True)\n",
      "          (2): ReLU(inplace=True)\n",
      "          (3): Conv2d(64, 64, kernel_size=(3, 3), stride=(1, 1), padding=(1, 1), bias=False)\n",
      "          (4): BatchNorm2d(64, eps=1e-05, momentum=0.1, affine=True, track_running_stats=True)\n",
      "          (5): ReLU(inplace=True)\n",
      "        )\n",
      "      )\n",
      "    )\n",
      "    (downs1): DownConv(\n",
      "      (downs): ModuleList(\n",
      "        (0): DoubleConv(\n",
      "          (conv): Sequential(\n",
      "            (0): Conv2d(3, 64, kernel_size=(3, 3), stride=(1, 1), padding=(1, 1), bias=False)\n",
      "            (1): BatchNorm2d(64, eps=1e-05, momentum=0.1, affine=True, track_running_stats=True)\n",
      "            (2): ReLU(inplace=True)\n",
      "            (3): Conv2d(64, 64, kernel_size=(3, 3), stride=(1, 1), padding=(1, 1), bias=False)\n",
      "            (4): BatchNorm2d(64, eps=1e-05, momentum=0.1, affine=True, track_running_stats=True)\n",
      "            (5): ReLU(inplace=True)\n",
      "          )\n",
      "        )\n",
      "        (1): DoubleConv(\n",
      "          (conv): Sequential(\n",
      "            (0): Conv2d(64, 128, kernel_size=(3, 3), stride=(1, 1), padding=(1, 1), bias=False)\n",
      "            (1): BatchNorm2d(128, eps=1e-05, momentum=0.1, affine=True, track_running_stats=True)\n",
      "            (2): ReLU(inplace=True)\n",
      "            (3): Conv2d(128, 128, kernel_size=(3, 3), stride=(1, 1), padding=(1, 1), bias=False)\n",
      "            (4): BatchNorm2d(128, eps=1e-05, momentum=0.1, affine=True, track_running_stats=True)\n",
      "            (5): ReLU(inplace=True)\n",
      "          )\n",
      "        )\n",
      "        (2): DoubleConv(\n",
      "          (conv): Sequential(\n",
      "            (0): Conv2d(128, 256, kernel_size=(3, 3), stride=(1, 1), padding=(1, 1), bias=False)\n",
      "            (1): BatchNorm2d(256, eps=1e-05, momentum=0.1, affine=True, track_running_stats=True)\n",
      "            (2): ReLU(inplace=True)\n",
      "            (3): Conv2d(256, 256, kernel_size=(3, 3), stride=(1, 1), padding=(1, 1), bias=False)\n",
      "            (4): BatchNorm2d(256, eps=1e-05, momentum=0.1, affine=True, track_running_stats=True)\n",
      "            (5): ReLU(inplace=True)\n",
      "          )\n",
      "        )\n",
      "        (3): DoubleConv(\n",
      "          (conv): Sequential(\n",
      "            (0): Conv2d(256, 512, kernel_size=(3, 3), stride=(1, 1), padding=(1, 1), bias=False)\n",
      "            (1): BatchNorm2d(512, eps=1e-05, momentum=0.1, affine=True, track_running_stats=True)\n",
      "            (2): ReLU(inplace=True)\n",
      "            (3): Conv2d(512, 512, kernel_size=(3, 3), stride=(1, 1), padding=(1, 1), bias=False)\n",
      "            (4): BatchNorm2d(512, eps=1e-05, momentum=0.1, affine=True, track_running_stats=True)\n",
      "            (5): ReLU(inplace=True)\n",
      "          )\n",
      "        )\n",
      "      )\n",
      "      (pool): MaxPool2d(kernel_size=2, stride=2, padding=0, dilation=1, ceil_mode=False)\n",
      "      (bottleneck): DoubleConv(\n",
      "        (conv): Sequential(\n",
      "          (0): Conv2d(512, 1024, kernel_size=(3, 3), stride=(1, 1), padding=(1, 1), bias=False)\n",
      "          (1): BatchNorm2d(1024, eps=1e-05, momentum=0.1, affine=True, track_running_stats=True)\n",
      "          (2): ReLU(inplace=True)\n",
      "          (3): Conv2d(1024, 1024, kernel_size=(3, 3), stride=(1, 1), padding=(1, 1), bias=False)\n",
      "          (4): BatchNorm2d(1024, eps=1e-05, momentum=0.1, affine=True, track_running_stats=True)\n",
      "          (5): ReLU(inplace=True)\n",
      "        )\n",
      "      )\n",
      "    )\n",
      "    (downs2): DownConv(\n",
      "      (downs): ModuleList(\n",
      "        (0): DoubleConv(\n",
      "          (conv): Sequential(\n",
      "            (0): Conv2d(2, 64, kernel_size=(3, 3), stride=(1, 1), padding=(1, 1), bias=False)\n",
      "            (1): BatchNorm2d(64, eps=1e-05, momentum=0.1, affine=True, track_running_stats=True)\n",
      "            (2): ReLU(inplace=True)\n",
      "            (3): Conv2d(64, 64, kernel_size=(3, 3), stride=(1, 1), padding=(1, 1), bias=False)\n",
      "            (4): BatchNorm2d(64, eps=1e-05, momentum=0.1, affine=True, track_running_stats=True)\n",
      "            (5): ReLU(inplace=True)\n",
      "          )\n",
      "        )\n",
      "        (1): DoubleConv(\n",
      "          (conv): Sequential(\n",
      "            (0): Conv2d(64, 128, kernel_size=(3, 3), stride=(1, 1), padding=(1, 1), bias=False)\n",
      "            (1): BatchNorm2d(128, eps=1e-05, momentum=0.1, affine=True, track_running_stats=True)\n",
      "            (2): ReLU(inplace=True)\n",
      "            (3): Conv2d(128, 128, kernel_size=(3, 3), stride=(1, 1), padding=(1, 1), bias=False)\n",
      "            (4): BatchNorm2d(128, eps=1e-05, momentum=0.1, affine=True, track_running_stats=True)\n",
      "            (5): ReLU(inplace=True)\n",
      "          )\n",
      "        )\n",
      "        (2): DoubleConv(\n",
      "          (conv): Sequential(\n",
      "            (0): Conv2d(128, 256, kernel_size=(3, 3), stride=(1, 1), padding=(1, 1), bias=False)\n",
      "            (1): BatchNorm2d(256, eps=1e-05, momentum=0.1, affine=True, track_running_stats=True)\n",
      "            (2): ReLU(inplace=True)\n",
      "            (3): Conv2d(256, 256, kernel_size=(3, 3), stride=(1, 1), padding=(1, 1), bias=False)\n",
      "            (4): BatchNorm2d(256, eps=1e-05, momentum=0.1, affine=True, track_running_stats=True)\n",
      "            (5): ReLU(inplace=True)\n",
      "          )\n",
      "        )\n",
      "        (3): DoubleConv(\n",
      "          (conv): Sequential(\n",
      "            (0): Conv2d(256, 512, kernel_size=(3, 3), stride=(1, 1), padding=(1, 1), bias=False)\n",
      "            (1): BatchNorm2d(512, eps=1e-05, momentum=0.1, affine=True, track_running_stats=True)\n",
      "            (2): ReLU(inplace=True)\n",
      "            (3): Conv2d(512, 512, kernel_size=(3, 3), stride=(1, 1), padding=(1, 1), bias=False)\n",
      "            (4): BatchNorm2d(512, eps=1e-05, momentum=0.1, affine=True, track_running_stats=True)\n",
      "            (5): ReLU(inplace=True)\n",
      "          )\n",
      "        )\n",
      "      )\n",
      "      (pool): MaxPool2d(kernel_size=2, stride=2, padding=0, dilation=1, ceil_mode=False)\n",
      "      (bottleneck): DoubleConv(\n",
      "        (conv): Sequential(\n",
      "          (0): Conv2d(512, 1024, kernel_size=(3, 3), stride=(1, 1), padding=(1, 1), bias=False)\n",
      "          (1): BatchNorm2d(1024, eps=1e-05, momentum=0.1, affine=True, track_running_stats=True)\n",
      "          (2): ReLU(inplace=True)\n",
      "          (3): Conv2d(1024, 1024, kernel_size=(3, 3), stride=(1, 1), padding=(1, 1), bias=False)\n",
      "          (4): BatchNorm2d(1024, eps=1e-05, momentum=0.1, affine=True, track_running_stats=True)\n",
      "          (5): ReLU(inplace=True)\n",
      "        )\n",
      "      )\n",
      "    )\n",
      "  )\n",
      "  (final_conv): Conv2d(128, 1, kernel_size=(1, 1), stride=(1, 1))\n",
      ")\n"
     ]
    }
   ],
   "source": [
    "print(model)"
   ]
  },
  {
   "cell_type": "code",
   "execution_count": null,
   "metadata": {
    "colab": {
     "base_uri": "https://localhost:8080/"
    },
    "id": "uw4ztdEZQy3-",
    "outputId": "4df5ab18-8e9b-4f84-8aff-5542d16b1948"
   },
   "outputs": [
    {
     "name": "stdout",
     "output_type": "stream",
     "text": [
      "+---------------------------------+------------+\n",
      "|             Modules             | Parameters |\n",
      "+---------------------------------+------------+\n",
      "|   downs1.downs.0.conv.0.weight  |    1728    |\n",
      "|   downs1.downs.0.conv.1.weight  |     64     |\n",
      "|    downs1.downs.0.conv.1.bias   |     64     |\n",
      "|   downs1.downs.0.conv.3.weight  |   36864    |\n",
      "|   downs1.downs.0.conv.4.weight  |     64     |\n",
      "|    downs1.downs.0.conv.4.bias   |     64     |\n",
      "|   downs1.downs.1.conv.0.weight  |   73728    |\n",
      "|   downs1.downs.1.conv.1.weight  |    128     |\n",
      "|    downs1.downs.1.conv.1.bias   |    128     |\n",
      "|   downs1.downs.1.conv.3.weight  |   147456   |\n",
      "|   downs1.downs.1.conv.4.weight  |    128     |\n",
      "|    downs1.downs.1.conv.4.bias   |    128     |\n",
      "|   downs1.downs.2.conv.0.weight  |   294912   |\n",
      "|   downs1.downs.2.conv.1.weight  |    256     |\n",
      "|    downs1.downs.2.conv.1.bias   |    256     |\n",
      "|   downs1.downs.2.conv.3.weight  |   589824   |\n",
      "|   downs1.downs.2.conv.4.weight  |    256     |\n",
      "|    downs1.downs.2.conv.4.bias   |    256     |\n",
      "|   downs1.downs.3.conv.0.weight  |  1179648   |\n",
      "|   downs1.downs.3.conv.1.weight  |    512     |\n",
      "|    downs1.downs.3.conv.1.bias   |    512     |\n",
      "|   downs1.downs.3.conv.3.weight  |  2359296   |\n",
      "|   downs1.downs.3.conv.4.weight  |    512     |\n",
      "|    downs1.downs.3.conv.4.bias   |    512     |\n",
      "| downs1.bottleneck.conv.0.weight |  4718592   |\n",
      "| downs1.bottleneck.conv.1.weight |    1024    |\n",
      "|  downs1.bottleneck.conv.1.bias  |    1024    |\n",
      "| downs1.bottleneck.conv.3.weight |  9437184   |\n",
      "| downs1.bottleneck.conv.4.weight |    1024    |\n",
      "|  downs1.bottleneck.conv.4.bias  |    1024    |\n",
      "|   downs2.downs.0.conv.0.weight  |    1152    |\n",
      "|   downs2.downs.0.conv.1.weight  |     64     |\n",
      "|    downs2.downs.0.conv.1.bias   |     64     |\n",
      "|   downs2.downs.0.conv.3.weight  |   36864    |\n",
      "|   downs2.downs.0.conv.4.weight  |     64     |\n",
      "|    downs2.downs.0.conv.4.bias   |     64     |\n",
      "|   downs2.downs.1.conv.0.weight  |   73728    |\n",
      "|   downs2.downs.1.conv.1.weight  |    128     |\n",
      "|    downs2.downs.1.conv.1.bias   |    128     |\n",
      "|   downs2.downs.1.conv.3.weight  |   147456   |\n",
      "|   downs2.downs.1.conv.4.weight  |    128     |\n",
      "|    downs2.downs.1.conv.4.bias   |    128     |\n",
      "|   downs2.downs.2.conv.0.weight  |   294912   |\n",
      "|   downs2.downs.2.conv.1.weight  |    256     |\n",
      "|    downs2.downs.2.conv.1.bias   |    256     |\n",
      "|   downs2.downs.2.conv.3.weight  |   589824   |\n",
      "|   downs2.downs.2.conv.4.weight  |    256     |\n",
      "|    downs2.downs.2.conv.4.bias   |    256     |\n",
      "|   downs2.downs.3.conv.0.weight  |  1179648   |\n",
      "|   downs2.downs.3.conv.1.weight  |    512     |\n",
      "|    downs2.downs.3.conv.1.bias   |    512     |\n",
      "|   downs2.downs.3.conv.3.weight  |  2359296   |\n",
      "|   downs2.downs.3.conv.4.weight  |    512     |\n",
      "|    downs2.downs.3.conv.4.bias   |    512     |\n",
      "| downs2.bottleneck.conv.0.weight |  4718592   |\n",
      "| downs2.bottleneck.conv.1.weight |    1024    |\n",
      "|  downs2.bottleneck.conv.1.bias  |    1024    |\n",
      "| downs2.bottleneck.conv.3.weight |  9437184   |\n",
      "| downs2.bottleneck.conv.4.weight |    1024    |\n",
      "|  downs2.bottleneck.conv.4.bias  |    1024    |\n",
      "|         up1.ups.0.weight        |  2097152   |\n",
      "|          up1.ups.0.bias         |    512     |\n",
      "|     up1.ups.1.conv.0.weight     |  7077888   |\n",
      "|     up1.ups.1.conv.1.weight     |    512     |\n",
      "|      up1.ups.1.conv.1.bias      |    512     |\n",
      "|     up1.ups.1.conv.3.weight     |  2359296   |\n",
      "|     up1.ups.1.conv.4.weight     |    512     |\n",
      "|      up1.ups.1.conv.4.bias      |    512     |\n",
      "|         up1.ups.2.weight        |   524288   |\n",
      "|          up1.ups.2.bias         |    256     |\n",
      "|     up1.ups.3.conv.0.weight     |  1769472   |\n",
      "|     up1.ups.3.conv.1.weight     |    256     |\n",
      "|      up1.ups.3.conv.1.bias      |    256     |\n",
      "|     up1.ups.3.conv.3.weight     |   589824   |\n",
      "|     up1.ups.3.conv.4.weight     |    256     |\n",
      "|      up1.ups.3.conv.4.bias      |    256     |\n",
      "|         up1.ups.4.weight        |   131072   |\n",
      "|          up1.ups.4.bias         |    128     |\n",
      "|     up1.ups.5.conv.0.weight     |   442368   |\n",
      "|     up1.ups.5.conv.1.weight     |    128     |\n",
      "|      up1.ups.5.conv.1.bias      |    128     |\n",
      "|     up1.ups.5.conv.3.weight     |   147456   |\n",
      "|     up1.ups.5.conv.4.weight     |    128     |\n",
      "|      up1.ups.5.conv.4.bias      |    128     |\n",
      "|         up1.ups.6.weight        |   32768    |\n",
      "|          up1.ups.6.bias         |     64     |\n",
      "|     up1.ups.7.conv.0.weight     |   110592   |\n",
      "|     up1.ups.7.conv.1.weight     |     64     |\n",
      "|      up1.ups.7.conv.1.bias      |     64     |\n",
      "|     up1.ups.7.conv.3.weight     |   36864    |\n",
      "|     up1.ups.7.conv.4.weight     |     64     |\n",
      "|      up1.ups.7.conv.4.bias      |     64     |\n",
      "|         up2.ups.0.weight        |  2097152   |\n",
      "|          up2.ups.0.bias         |    512     |\n",
      "|     up2.ups.1.conv.0.weight     |  7077888   |\n",
      "|     up2.ups.1.conv.1.weight     |    512     |\n",
      "|      up2.ups.1.conv.1.bias      |    512     |\n",
      "|     up2.ups.1.conv.3.weight     |  2359296   |\n",
      "|     up2.ups.1.conv.4.weight     |    512     |\n",
      "|      up2.ups.1.conv.4.bias      |    512     |\n",
      "|         up2.ups.2.weight        |   524288   |\n",
      "|          up2.ups.2.bias         |    256     |\n",
      "|     up2.ups.3.conv.0.weight     |  1769472   |\n",
      "|     up2.ups.3.conv.1.weight     |    256     |\n",
      "|      up2.ups.3.conv.1.bias      |    256     |\n",
      "|     up2.ups.3.conv.3.weight     |   589824   |\n",
      "|     up2.ups.3.conv.4.weight     |    256     |\n",
      "|      up2.ups.3.conv.4.bias      |    256     |\n",
      "|         up2.ups.4.weight        |   131072   |\n",
      "|          up2.ups.4.bias         |    128     |\n",
      "|     up2.ups.5.conv.0.weight     |   442368   |\n",
      "|     up2.ups.5.conv.1.weight     |    128     |\n",
      "|      up2.ups.5.conv.1.bias      |    128     |\n",
      "|     up2.ups.5.conv.3.weight     |   147456   |\n",
      "|     up2.ups.5.conv.4.weight     |    128     |\n",
      "|      up2.ups.5.conv.4.bias      |    128     |\n",
      "|         up2.ups.6.weight        |   32768    |\n",
      "|          up2.ups.6.bias         |     64     |\n",
      "|     up2.ups.7.conv.0.weight     |   110592   |\n",
      "|     up2.ups.7.conv.1.weight     |     64     |\n",
      "|      up2.ups.7.conv.1.bias      |     64     |\n",
      "|     up2.ups.7.conv.3.weight     |   36864    |\n",
      "|     up2.ups.7.conv.4.weight     |     64     |\n",
      "|      up2.ups.7.conv.4.bias      |     64     |\n",
      "|        final_conv.weight        |    128     |\n",
      "|         final_conv.bias         |     1      |\n",
      "+---------------------------------+------------+\n",
      "Total Trainable Params: 68341569\n"
     ]
    },
    {
     "data": {
      "text/plain": [
       "68341569"
      ]
     },
     "execution_count": 15,
     "metadata": {},
     "output_type": "execute_result"
    }
   ],
   "source": [
    "from prettytable import PrettyTable\n",
    "\n",
    "def count_parameters(model):\n",
    "    table = PrettyTable([\"Modules\", \"Parameters\"])\n",
    "    total_params = 0\n",
    "    for name, parameter in model.named_parameters():\n",
    "        if not parameter.requires_grad: continue\n",
    "        param = parameter.numel()\n",
    "        table.add_row([name, param])\n",
    "        total_params+=param\n",
    "    print(table)\n",
    "    print(f\"Total Trainable Params: {total_params}\")\n",
    "    return total_params\n",
    "    \n",
    "count_parameters(model)"
   ]
  },
  {
   "cell_type": "code",
   "execution_count": null,
   "metadata": {
    "id": "y09xhf21VnAH"
   },
   "outputs": [],
   "source": []
  }
 ],
 "metadata": {
  "accelerator": "GPU",
  "colab": {
   "collapsed_sections": [],
   "name": "ONet for Depth Estimation.ipynb",
   "provenance": []
  },
  "kernelspec": {
   "display_name": "Python 3",
   "language": "python",
   "name": "python3"
  },
  "language_info": {
   "codemirror_mode": {
    "name": "ipython",
    "version": 3
   },
   "file_extension": ".py",
   "mimetype": "text/x-python",
   "name": "python",
   "nbconvert_exporter": "python",
   "pygments_lexer": "ipython3",
   "version": "3.6.5"
  }
 },
 "nbformat": 4,
 "nbformat_minor": 1
}
